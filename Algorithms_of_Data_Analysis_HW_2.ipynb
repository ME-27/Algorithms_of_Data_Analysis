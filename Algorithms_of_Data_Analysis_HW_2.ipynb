{
 "cells": [
  {
   "cell_type": "markdown",
   "metadata": {},
   "source": [
    "# Домашнее задание № 2"
   ]
  },
  {
   "cell_type": "markdown",
   "metadata": {},
   "source": [
    "## по дисциплине: Алгоритмы анализа данных"
   ]
  },
  {
   "cell_type": "markdown",
   "metadata": {},
   "source": [
    "## Тема: Масштабирование признаков. Регуляризация. Стохастический градиентный спуск"
   ]
  },
  {
   "cell_type": "markdown",
   "metadata": {},
   "source": [
    "### выполнил: Евгений Кириллов"
   ]
  },
  {
   "cell_type": "code",
   "execution_count": null,
   "metadata": {},
   "outputs": [],
   "source": []
  },
  {
   "cell_type": "code",
   "execution_count": 1,
   "metadata": {
    "id": "_u5bV-OlT34p"
   },
   "outputs": [],
   "source": [
    "import numpy as np\n",
    "import matplotlib.pyplot as plt"
   ]
  },
  {
   "cell_type": "code",
   "execution_count": 2,
   "metadata": {
    "id": "_n6il-AZaLuA"
   },
   "outputs": [],
   "source": [
    "X = np.array([[1, 1, 1, 1, 1, 1, 1, 1, 1, 1],\n",
    "              [1, 1, 2, 5, 3, 0, 5, 10, 1, 2],\n",
    "              [500, 700, 750, 600, 1450, 800, 1500, 2000, 450, 1000],\n",
    "              [1, 1, 2, 1, 2, 1, 3, 3, 1, 2]])"
   ]
  },
  {
   "cell_type": "code",
   "execution_count": 3,
   "metadata": {
    "id": "x8yoci01ni-t"
   },
   "outputs": [],
   "source": [
    "y = [45, 55, 50, 55, 60, 35, 75, 80, 50, 60]"
   ]
  },
  {
   "cell_type": "code",
   "execution_count": 4,
   "metadata": {
    "id": "ZlJUBOyzgkJV"
   },
   "outputs": [],
   "source": [
    "def calc_std_fit(x):\n",
    "    res = (x - x.mean()) / x.std()\n",
    "    return res"
   ]
  },
  {
   "cell_type": "code",
   "execution_count": 5,
   "metadata": {},
   "outputs": [],
   "source": [
    "X_st = X.copy().astype(np.float64)\n",
    "X_st[1] = calc_std_fit(X[1])\n",
    "X_st[2] = calc_std_fit(X[2])\n",
    "X_st[3] = calc_std_fit(X[3])"
   ]
  },
  {
   "cell_type": "code",
   "execution_count": 6,
   "metadata": {
    "id": "VDpN7UxYnrcS"
   },
   "outputs": [],
   "source": [
    "def calc_mse(y, y_pred):\n",
    "    err = np.mean((y - y_pred)**2)\n",
    "    return err"
   ]
  },
  {
   "cell_type": "markdown",
   "metadata": {
    "id": "DYTxT_6OrZpe"
   },
   "source": [
    "L1 регуляризация"
   ]
  },
  {
   "cell_type": "markdown",
   "metadata": {
    "id": "Ojkn7xKrsyiw"
   },
   "source": [
    "f(x, W) + (lambda_/2) * np.sum(np.abs(W))"
   ]
  },
  {
   "cell_type": "code",
   "execution_count": null,
   "metadata": {},
   "outputs": [],
   "source": []
  },
  {
   "cell_type": "markdown",
   "metadata": {
    "id": "j38vId7Hvtg0"
   },
   "source": [
    "L2 регуляризация"
   ]
  },
  {
   "cell_type": "markdown",
   "metadata": {
    "id": "KO5BtZ7svv4k"
   },
   "source": [
    "f(x, W) + (lambda_/2) * np.sum(W**2)"
   ]
  },
  {
   "cell_type": "markdown",
   "metadata": {
    "id": "gKDejdRT6r0g"
   },
   "source": [
    "### Практическое задание"
   ]
  },
  {
   "cell_type": "markdown",
   "metadata": {
    "id": "S3bTX7yz6r0g"
   },
   "source": [
    "* Постройте график зависимости весов всех признаков от lambda в L2-регуляризации на основе данных из урока."
   ]
  },
  {
   "cell_type": "markdown",
   "metadata": {
    "id": "ZIbh5rKr6r0n"
   },
   "source": [
    "* Можно ли к одному и тому же признаку применить сразу и нормализацию, и стандартизацию?"
   ]
  },
  {
   "cell_type": "markdown",
   "metadata": {
    "id": "uJQtO2UB6r0n"
   },
   "source": [
    "* Напишите функцию наподобие eval_model_reg2, но для применения L1-регуляризации."
   ]
  },
  {
   "cell_type": "code",
   "execution_count": null,
   "metadata": {},
   "outputs": [],
   "source": []
  },
  {
   "cell_type": "markdown",
   "metadata": {},
   "source": [
    "### Задание 1\n",
    "\n",
    "Постройте график зависимости весов всех признаков от lambda в L2-регуляризации на основе данных из урока."
   ]
  },
  {
   "cell_type": "code",
   "execution_count": 7,
   "metadata": {},
   "outputs": [],
   "source": [
    "def eval_model_reg2(X, y, iterations, alpha=1e-4, lambda_=1e-8):\n",
    "    np.random.seed(42)\n",
    "    W = np.random.randn(X.shape[0])\n",
    "    n = X.shape[1]\n",
    "    for i in range(1, iterations+1):\n",
    "        y_pred = np.dot(W, X)\n",
    "        err = calc_mse(y, y_pred)\n",
    "        W -= alpha * (1/n * 2 * np.dot((y_pred - y), X.T) + lambda_ * W) \n",
    "        \n",
    "    return W"
   ]
  },
  {
   "cell_type": "markdown",
   "metadata": {},
   "source": [
    "Функция eval_model_reg2, которая была приведена в материалах урока, не является полноценной функцией L2-регуляризации (я предполагаю), т.к. вместо f(x, W) + (lambda_/2) * np.sum(W^2), там f(x, W) + lambda_ * W. Тем не менее строим график зависимости весов всех признаков от lambda в приведённой выше регуляризации:"
   ]
  },
  {
   "cell_type": "code",
   "execution_count": 8,
   "metadata": {},
   "outputs": [],
   "source": [
    "lambda_space = np.linspace(1e-08, 3, 100)\n",
    "for i, l in enumerate(lambda_space):\n",
    "    if i == 0:\n",
    "        W = eval_model_reg2(X_st, y, iterations=1000, alpha=1e-2, lambda_=l)\n",
    "        continue\n",
    "    \n",
    "    W = np.vstack((W, eval_model_reg2(X_st, y, iterations=1000, alpha=1e-2, lambda_=l)))"
   ]
  },
  {
   "cell_type": "code",
   "execution_count": 9,
   "metadata": {},
   "outputs": [
    {
     "data": {
      "text/plain": [
       "array([[56.49999962,  6.19560095,  0.13438971,  6.17194872],\n",
       "       [55.65671608,  6.02802395,  0.48481282,  5.90250367],\n",
       "       [54.83823498,  5.87797355,  0.78064708,  5.67300457],\n",
       "       [54.04347797,  5.74271051,  1.03167637,  5.4760409 ],\n",
       "       [53.2714283 ,  5.61999942,  1.24574455,  5.30570649],\n",
       "       [52.52112651,  5.5080074 ,  1.42916527,  5.15727705],\n",
       "       [51.79166643,  5.40522423,  1.58704153,  5.02695933],\n",
       "       [51.08219156,  5.31039942,  1.72351537,  4.91169577],\n",
       "       [50.39189168,  5.22249228,  1.84196358,  4.8090118 ],\n",
       "       [49.7199998 ,  5.14063235,  1.94515142,  4.71689641],\n",
       "       [49.06578928,  5.0640878 ,  2.03535372,  4.63370835],\n",
       "       [48.42857124,  4.99224027,  2.11445051,  4.55810233],\n",
       "       [47.80769213,  4.92456457,  2.18400283,  4.48897076],\n",
       "       [47.20253147,  4.86061241,  2.24531294,  4.4253977 ],\n",
       "       [46.61249983,  4.79999928,  2.29947233,  4.36662227],\n",
       "       [46.03703688,  4.74239373,  2.34740012,  4.31200951],\n",
       "       [45.4756096 ,  4.68750873,  2.38987392,  4.26102718],\n",
       "       [44.9277107 ,  4.63509453,  2.42755457,  4.21322706],\n",
       "       [44.392857  ,  4.58493289,  2.4610063 ,  4.16823005],\n",
       "       [43.8705881 ,  4.53683223,  2.49071291,  4.12571402],\n",
       "       [43.36046498,  4.49062369,  2.51709109,  4.08540408],\n",
       "       [42.86206884,  4.44615785,  2.5405012 ,  4.04706462],\n",
       "       [42.37499988,  4.40330196,  2.56125621,  4.01049283],\n",
       "       [41.89887629,  4.36193765,  2.57962892,  3.97551342],\n",
       "       [41.43333322,  4.321959  ,  2.59585813,  3.94197427],\n",
       "       [40.97802187,  4.28327091,  2.61015355,  3.90974281],\n",
       "       [40.53260859,  4.24578772,  2.62270006,  3.8787031 ],\n",
       "       [40.09677409,  4.20943202,  2.63366115,  3.84875336],\n",
       "       [39.67021267,  4.17413367,  2.64318191,  3.81980387],\n",
       "       [39.25263148,  4.13982892,  2.65139146,  3.79177532],\n",
       "       [38.84374991,  4.10645969,  2.65840507,  3.76459733],\n",
       "       [38.44329888,  4.07397291,  2.66432592,  3.73820725],\n",
       "       [38.05102032,  4.04231999,  2.66924663,  3.71254913],\n",
       "       [37.66666658,  4.01145633,  2.67325056,  3.68757284],\n",
       "       [37.28999992,  3.98134088,  2.67641288,  3.66323334],\n",
       "       [36.920792  ,  3.95193582,  2.67880159,  3.63949006],\n",
       "       [36.55882345,  3.9232062 ,  2.68047828,  3.61630633],\n",
       "       [36.20388342,  3.89511966,  2.6814989 ,  3.59364892],\n",
       "       [35.85576916,  3.86764622,  2.68191435,  3.57148766],\n",
       "       [35.51428565,  3.84075799,  2.68177105,  3.54979508],\n",
       "       [35.17924522,  3.81442905,  2.68111137,  3.52854609],\n",
       "       [34.85046723,  3.78863522,  2.6799741 ,  3.50771773],\n",
       "       [34.52777772,  3.76335393,  2.67839477,  3.48728896],\n",
       "       [34.21100912,  3.73856408,  2.676406  ,  3.46724045],\n",
       "       [33.89999994,  3.7142459 ,  2.67403777,  3.44755437],\n",
       "       [33.59459454,  3.69038086,  2.6713177 ,  3.42821428],\n",
       "       [33.2946428 ,  3.66695156,  2.66827121,  3.40920499],\n",
       "       [32.99999995,  3.64394163,  2.66492181,  3.3905124 ],\n",
       "       [32.71052627,  3.62133568,  2.6612912 ,  3.37212345],\n",
       "       [32.42608691,  3.59911919,  2.65739946,  3.35402597],\n",
       "       [32.14655168,  3.57727844,  2.6532652 ,  3.33620864],\n",
       "       [31.87179483,  3.5558005 ,  2.64890567,  3.31866089],\n",
       "       [31.60169487,  3.53467311,  2.6443369 ,  3.30137284],\n",
       "       [31.33613441,  3.5138847 ,  2.63957377,  3.28433525],\n",
       "       [31.07499996,  3.49342425,  2.63463013,  3.26753944],\n",
       "       [30.81818178,  3.47328136,  2.62951886,  3.25097728],\n",
       "       [30.56557373,  3.45344611,  2.62425199,  3.23464111],\n",
       "       [30.31707314,  3.4339091 ,  2.6188407 ,  3.21852371],\n",
       "       [30.07258061,  3.41466137,  2.61329546,  3.20261829],\n",
       "       [29.83199997,  3.39569439,  2.60762603,  3.18691843],\n",
       "       [29.59523806,  3.37700003,  2.60184155,  3.17141805],\n",
       "       [29.3622047 ,  3.35857053,  2.59595054,  3.15611141],\n",
       "       [29.13281247,  3.3403985 ,  2.589961  ,  3.14099306],\n",
       "       [28.90697672,  3.32247686,  2.58388043,  3.12605782],\n",
       "       [28.68461536,  3.30479884,  2.57771582,  3.11130079],\n",
       "       [28.46564883,  3.28735798,  2.57147376,  3.0967173 ],\n",
       "       [28.24999998,  3.27014808,  2.56516043,  3.08230288],\n",
       "       [28.03759396,  3.2531632 ,  2.55878161,  3.06805331],\n",
       "       [27.82835819,  3.23639764,  2.55234275,  3.05396453],\n",
       "       [27.6222222 ,  3.21984594,  2.54584896,  3.04003268],\n",
       "       [27.41911763,  3.20350286,  2.53930504,  3.02625406],\n",
       "       [27.21897808,  3.18736335,  2.53271551,  3.01262514],\n",
       "       [27.02173911,  3.17142257,  2.52608463,  2.99914252],\n",
       "       [26.82733811,  3.15567585,  2.5194164 ,  2.98580296],\n",
       "       [26.63571427,  3.14011872,  2.51271458,  2.97260335],\n",
       "       [26.4468085 ,  3.12474684,  2.50598273,  2.95954069],\n",
       "       [26.26056337,  3.10955606,  2.49922418,  2.9466121 ],\n",
       "       [26.07692306,  3.09454236,  2.49244209,  2.93381481],\n",
       "       [25.89583332,  3.07970187,  2.48563942,  2.92114618],\n",
       "       [25.71724137,  3.06503085,  2.47881898,  2.90860362],\n",
       "       [25.54109588,  3.0505257 ,  2.4719834 ,  2.89618467],\n",
       "       [25.36734693,  3.03618293,  2.46513518,  2.88388693],\n",
       "       [25.19594594,  3.02199917,  2.45827666,  2.87170812],\n",
       "       [25.02684563,  3.00797116,  2.45141006,  2.859646  ],\n",
       "       [24.85999999,  2.99409575,  2.44453747,  2.84769843],\n",
       "       [24.69536423,  2.98036989,  2.43766087,  2.83586332],\n",
       "       [24.53289473,  2.96679064,  2.43078211,  2.82413867],\n",
       "       [24.37254901,  2.95335512,  2.42390296,  2.81252252],\n",
       "       [24.21428571,  2.94006057,  2.41702508,  2.80101299],\n",
       "       [24.05806451,  2.9269043 ,  2.41015002,  2.78960824],\n",
       "       [23.90384615,  2.91388371,  2.40327928,  2.77830652],\n",
       "       [23.75159235,  2.90099625,  2.39641424,  2.76710609],\n",
       "       [23.60126582,  2.8882395 ,  2.38955623,  2.75600528],\n",
       "       [23.45283019,  2.87561105,  2.38270648,  2.74500246],\n",
       "       [23.30625   ,  2.8631086 ,  2.37586617,  2.73409607],\n",
       "       [23.16149068,  2.85072989,  2.3690364 ,  2.72328457],\n",
       "       [23.01851852,  2.83847275,  2.36221823,  2.71256647],\n",
       "       [22.87730061,  2.82633505,  2.35541263,  2.70194031],\n",
       "       [22.73780488,  2.81431472,  2.34862053,  2.69140468],\n",
       "       [22.6       ,  2.80240975,  2.34184281,  2.68095822]])"
      ]
     },
     "execution_count": 9,
     "metadata": {},
     "output_type": "execute_result"
    }
   ],
   "source": [
    "W"
   ]
  },
  {
   "cell_type": "code",
   "execution_count": 10,
   "metadata": {},
   "outputs": [
    {
     "data": {
      "text/plain": [
       "Text(0, 0.5, 'weights')"
      ]
     },
     "execution_count": 10,
     "metadata": {},
     "output_type": "execute_result"
    },
    {
     "data": {
      "image/png": "[encoded data removed]",
      "text/plain": [
       "<Figure size 1152x360 with 1 Axes>"
      ]
     },
     "metadata": {
      "needs_background": "light"
     },
     "output_type": "display_data"
    }
   ],
   "source": [
    "plt.figure(figsize=(16, 5))\n",
    "plt.plot(lambda_space, W)\n",
    "\n",
    "plt.title('weights and lambda dependance')\n",
    "plt.xlabel('lambda')\n",
    "plt.ylabel('weights')"
   ]
  },
  {
   "cell_type": "code",
   "execution_count": null,
   "metadata": {},
   "outputs": [],
   "source": []
  },
  {
   "cell_type": "markdown",
   "metadata": {
    "id": "OX4r_PNv6r0o"
   },
   "source": [
    "### Задание 2\n",
    "\n",
    "Можно ли к одному и тому же признаку применить сразу и нормализацию, и стандартизацию?"
   ]
  },
  {
   "cell_type": "markdown",
   "metadata": {},
   "source": [
    "ответ: да, а чего бы нет"
   ]
  },
  {
   "cell_type": "code",
   "execution_count": null,
   "metadata": {},
   "outputs": [],
   "source": []
  },
  {
   "cell_type": "markdown",
   "metadata": {},
   "source": [
    "### Задание 3\n",
    "\n",
    "Напишите функцию наподобие eval_model_reg2, но для применения L1-регуляризации."
   ]
  },
  {
   "cell_type": "code",
   "execution_count": 12,
   "metadata": {},
   "outputs": [],
   "source": [
    "def eval_model_reg1(X, y, iterations, alpha=1e-4, lambda_=1e-8):\n",
    "    np.random.seed(42)\n",
    "    W = np.random.randn(X.shape[0])\n",
    "    n = X.shape[1]\n",
    "    for i in range(1, iterations+1):\n",
    "        y_pred = np.dot(W, X)\n",
    "        err = calc_mse(y, y_pred)\n",
    "        W -= alpha * (1/n * 2 * np.dot((y_pred - y), X.T) + lambda_ * np.sum(np.abs(W)))\n",
    "        \n",
    "    return W"
   ]
  },
  {
   "cell_type": "code",
   "execution_count": null,
   "metadata": {},
   "outputs": [],
   "source": []
  }
 ],
 "metadata": {
  "colab": {
   "collapsed_sections": [],
   "name": "Lesson_2_script.ipynb",
   "provenance": []
  },
  "kernelspec": {
   "display_name": "Python 3",
   "language": "python",
   "name": "python3"
  },
  "language_info": {
   "codemirror_mode": {
    "name": "ipython",
    "version": 3
   },
   "file_extension": ".py",
   "mimetype": "text/x-python",
   "name": "python",
   "nbconvert_exporter": "python",
   "pygments_lexer": "ipython3",
   "version": "3.8.8"
  }
 },
 "nbformat": 4,
 "nbformat_minor": 1
}
