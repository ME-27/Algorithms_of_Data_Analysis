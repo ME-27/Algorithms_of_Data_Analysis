{
 "cells": [
  {
   "cell_type": "markdown",
   "metadata": {},
   "source": [
    "# Домашнее задание № 1"
   ]
  },
  {
   "cell_type": "markdown",
   "metadata": {},
   "source": [
    "## по дисциплине: Алгоритмы анализа данных"
   ]
  },
  {
   "cell_type": "markdown",
   "metadata": {},
   "source": [
    "## Тема: Алгоритм линейной регрессии. Градиентный спуск"
   ]
  },
  {
   "cell_type": "markdown",
   "metadata": {},
   "source": [
    "### выполнил: Евгений Кириллов"
   ]
  },
  {
   "cell_type": "code",
   "execution_count": null,
   "metadata": {},
   "outputs": [],
   "source": []
  },
  {
   "cell_type": "code",
   "execution_count": 1,
   "metadata": {
    "id": "ak8b3KV45kVW"
   },
   "outputs": [],
   "source": [
    "import numpy as np"
   ]
  },
  {
   "cell_type": "markdown",
   "metadata": {
    "id": "VphnS-M8BjZ5"
   },
   "source": [
    "__Задача:__ предсказание баллов ЕГЭ ученика в зависимости от количества лет стажа его репетитора"
   ]
  },
  {
   "cell_type": "code",
   "execution_count": 2,
   "metadata": {
    "id": "i77tZbAd5plB",
    "outputId": "784cb9ea-d0b1-4633-8ded-80edaa795b76"
   },
   "outputs": [],
   "source": [
    "X = np.array([[1, 1, 1, 1, 1, 1, 1, 1, 1, 1],\n",
    "              [1, 1, 2, 5, 3, 0, 5, 10, 1, 2]])\n",
    "\n",
    "y = [45, 55, 50, 55, 60, 35, 75, 80, 50, 60]"
   ]
  },
  {
   "cell_type": "code",
   "execution_count": 3,
   "metadata": {
    "id": "JTSC2cFnCd8T"
   },
   "outputs": [],
   "source": [
    "def calc_mae(y, y_pred):\n",
    "    err = np.mean(np.abs(y - y_pred))\n",
    "    return err\n",
    "\n",
    "def calc_mse(y, y_pred):\n",
    "    err = np.mean((y - y_pred)**2) # <=> 1/n * np.sum((y_pred - y)**2)\n",
    "    return err"
   ]
  },
  {
   "cell_type": "code",
   "execution_count": null,
   "metadata": {},
   "outputs": [],
   "source": []
  },
  {
   "cell_type": "markdown",
   "metadata": {
    "id": "QqGEYJDNBjaP"
   },
   "source": [
    "### Задание 1\n",
    "\n",
    "Подберите скорость обучения (alpha) и количество итераций."
   ]
  },
  {
   "cell_type": "code",
   "execution_count": 4,
   "metadata": {
    "colab": {
     "base_uri": "https://localhost:8080/",
     "height": 185
    },
    "id": "IDB22MQKMYaJ",
    "outputId": "4c03219e-a57c-4583-f439-6699fd0619bb"
   },
   "outputs": [
    {
     "name": "stdout",
     "output_type": "stream",
     "text": [
      "Number of objects = 10        \n",
      "Learning rate = 0.01        \n",
      "Initial weights = [1.  0.5] \n",
      "\n",
      "Iteration #0: W_new = [2.08 4.27], MSE = 3047.75\n",
      "Iteration #10: W_new = [ 6.67106886 10.61676385], MSE = 749.71\n",
      "Iteration #20: W_new = [ 9.49320908 10.25731657], MSE = 648.91\n",
      "Iteration #30: W_new = [11.85740092  9.83349244], MSE = 570.46\n",
      "Iteration #40: W_new = [13.86876921  9.46898661], MSE = 508.03\n",
      "Iteration #50: W_new = [15.59085668  9.15672679], MSE = 457.73\n",
      "Iteration #60: W_new = [17.07337653  8.88789585], MSE = 416.77\n",
      "Iteration #70: W_new = [18.35601294  8.65530964], MSE = 383.06\n",
      "Iteration #80: W_new = [19.47073522  8.45317196], MSE = 355.08\n",
      "Iteration #90: W_new = [20.44350656  8.27677488], MSE = 331.65\n"
     ]
    }
   ],
   "source": [
    "n = X.shape[1]\n",
    "alpha = 1e-2\n",
    "W = np.array([1, 0.5])\n",
    "print(f'Number of objects = {n} \\\n",
    "       \\nLearning rate = {alpha} \\\n",
    "       \\nInitial weights = {W} \\n')\n",
    "\n",
    "for i in range(100):\n",
    "    y_pred = np.dot(W, X)\n",
    "    err = calc_mse(y, y_pred)\n",
    "    for k in range(W.shape[0]):\n",
    "        W[k] -= alpha * (1/n * 2 * np.sum(X[k] * (y_pred - y)))\n",
    "    if i % 10 == 0:\n",
    "        alpha /= 1.1\n",
    "        print(f'Iteration #{i}: W_new = {W}, MSE = {round(err,2)}')"
   ]
  },
  {
   "cell_type": "markdown",
   "metadata": {},
   "source": [
    "#### решение:"
   ]
  },
  {
   "cell_type": "code",
   "execution_count": 5,
   "metadata": {},
   "outputs": [
    {
     "name": "stdout",
     "output_type": "stream",
     "text": [
      "Number of objects = 10        \n",
      "Learning rate = 0.2        \n",
      "Initial weights = [1.  0.5] \n",
      "\n",
      "Iteration #0: W_new = [22.6 75.9], MSE = 3047.75\n",
      "Iteration #10: W_new = [ 5415311.71454056 29863454.66191615], MSE = 1194376653973362.0\n",
      "Iteration #20: W_new = [9.88086345e+09 5.44896804e+10], MSE = 1.1983210264842023e+22\n",
      "Iteration #30: W_new = [2.11920878e+10 1.16867326e+11], MSE = 2.124662552281351e+23\n",
      "Iteration #40: W_new = [1563970.41343774 8624541.91417933], MSE = 9037381875386022.0\n",
      "Iteration #50: W_new = [43.80320418  4.04091019], MSE = 44.75\n",
      "Iteration #60: W_new = [43.99091997  4.00681452], MSE = 44.53\n",
      "Iteration #70: W_new = [44.09997309  3.98703941], MSE = 44.41\n",
      "Iteration #80: W_new = [44.16632249  3.97500797], MSE = 44.35\n",
      "Iteration #90: W_new = [44.20794612  3.96746017], MSE = 44.32\n"
     ]
    }
   ],
   "source": [
    "n = X.shape[1]\n",
    "alpha = 2e-1\n",
    "W = np.array([1, 0.5])\n",
    "print(f'Number of objects = {n} \\\n",
    "       \\nLearning rate = {alpha} \\\n",
    "       \\nInitial weights = {W} \\n')\n",
    "\n",
    "for i in range(100):\n",
    "    y_pred = np.dot(W, X)\n",
    "    err = calc_mse(y, y_pred)\n",
    "    for k in range(W.shape[0]):\n",
    "        W[k] -= alpha * (1/n * 2 * np.sum(X[k] * (y_pred - y)))\n",
    "    if i % 10 == 0:\n",
    "        alpha /= 1.5\n",
    "        print(f'Iteration #{i}: W_new = {W}, MSE = {round(err,2)}')"
   ]
  },
  {
   "cell_type": "code",
   "execution_count": null,
   "metadata": {},
   "outputs": [],
   "source": []
  },
  {
   "cell_type": "markdown",
   "metadata": {
    "id": "5Qu1o4JhZYwI"
   },
   "source": [
    "### Задание *2.\n",
    "\n",
    "В этом коде мы избавляемся от итераций по весам, но здесь есть ошибка, исправьте её."
   ]
  },
  {
   "cell_type": "code",
   "execution_count": 6,
   "metadata": {},
   "outputs": [
    {
     "name": "stdout",
     "output_type": "stream",
     "text": [
      "Number of objects = 10        \n",
      "Learning rate = 0.01        \n",
      "Initial weights = [1.  0.5] \n",
      "\n",
      "Iteration #0: W_new = [5.85 5.35], MSE = 3047.75\n",
      "Iteration #10: W_new = [11.0965715 10.5965715], MSE = 597.49\n",
      "Iteration #20: W_new = [11.10415569 10.60415569], MSE = 597.49\n",
      "Iteration #30: W_new = [11.10416665 10.60416665], MSE = 597.49\n",
      "Iteration #40: W_new = [11.10416667 10.60416667], MSE = 597.49\n",
      "Iteration #50: W_new = [11.10416667 10.60416667], MSE = 597.49\n",
      "Iteration #60: W_new = [11.10416667 10.60416667], MSE = 597.49\n",
      "Iteration #70: W_new = [11.10416667 10.60416667], MSE = 597.49\n",
      "Iteration #80: W_new = [11.10416667 10.60416667], MSE = 597.49\n",
      "Iteration #90: W_new = [11.10416667 10.60416667], MSE = 597.49\n"
     ]
    }
   ],
   "source": [
    "n = X.shape[1]\n",
    "alpha = 1e-2\n",
    "W = np.array([1, 0.5])\n",
    "print(f'Number of objects = {n} \\\n",
    "       \\nLearning rate = {alpha} \\\n",
    "       \\nInitial weights = {W} \\n')\n",
    "\n",
    "for i in range(100):\n",
    "    y_pred = np.dot(W, X)\n",
    "    err = calc_mse(y, y_pred)\n",
    "#     for k in range(W.shape[0]):\n",
    "#         W[k] -= alpha * (1/n * 2 * np.sum(X[k] * (y_pred - y)))\n",
    "    W -= alpha * (1/n * 2 * np.sum(X * (y_pred - y)))\n",
    "    W_pred = W\n",
    "    if i % 10 == 0:\n",
    "        print(f'Iteration #{i}: W_new = {W}, MSE = {round(err,2)}')"
   ]
  },
  {
   "cell_type": "markdown",
   "metadata": {},
   "source": [
    "#### решение:"
   ]
  },
  {
   "cell_type": "code",
   "execution_count": 7,
   "metadata": {
    "colab": {
     "base_uri": "https://localhost:8080/",
     "height": 185
    },
    "id": "WZZzDCQLY4pA",
    "outputId": "28f58ade-72f2-4381-809d-2417752d56e4"
   },
   "outputs": [
    {
     "name": "stdout",
     "output_type": "stream",
     "text": [
      "Number of objects = 10        \n",
      "Learning rate = 0.2        \n",
      "Initial weights = [1.  0.5] \n",
      "\n",
      "Iteration #0: W_new = [22.6 75.9], MSE = 3047.75\n",
      "Iteration #10: W_new = [ 5415311.71454056 29863454.66191615], MSE = 1194376653973362.0\n",
      "Iteration #20: W_new = [9.88086345e+09 5.44896804e+10], MSE = 1.1983210264842023e+22\n",
      "Iteration #30: W_new = [2.11920878e+10 1.16867326e+11], MSE = 2.124662552281351e+23\n",
      "Iteration #40: W_new = [1563970.41343774 8624541.91417933], MSE = 9037381875386022.0\n",
      "Iteration #50: W_new = [43.80320418  4.04091019], MSE = 44.75\n",
      "Iteration #60: W_new = [43.99091997  4.00681452], MSE = 44.53\n",
      "Iteration #70: W_new = [44.09997309  3.98703941], MSE = 44.41\n",
      "Iteration #80: W_new = [44.16632249  3.97500797], MSE = 44.35\n",
      "Iteration #90: W_new = [44.20794612  3.96746017], MSE = 44.32\n"
     ]
    }
   ],
   "source": [
    "n = X.shape[1]\n",
    "alpha = 2e-1\n",
    "W = np.array([1, 0.5])\n",
    "print(f'Number of objects = {n} \\\n",
    "       \\nLearning rate = {alpha} \\\n",
    "       \\nInitial weights = {W} \\n')\n",
    "\n",
    "for i in range(100):\n",
    "    y_pred = np.dot(W, X)\n",
    "    err = calc_mse(y, y_pred)\n",
    "\n",
    "    W -= alpha * (1/n * 2 * np.sum(X * (y_pred - y), axis=1))  # !!! , axis=1\n",
    "\n",
    "    W_pred = W\n",
    "    if i % 10 == 0:\n",
    "        alpha /= 1.5\n",
    "        print(f'Iteration #{i}: W_new = {W}, MSE = {round(err,2)}')"
   ]
  },
  {
   "cell_type": "code",
   "execution_count": null,
   "metadata": {},
   "outputs": [],
   "source": []
  },
  {
   "cell_type": "markdown",
   "metadata": {
    "id": "dNd19yVmBjaR"
   },
   "source": [
    "### Задание *3. \n",
    "\n",
    "\n",
    "Вместо того чтобы задавать количество итераций, задайте условие остановки алгоритма, когда ошибка за итерацию начинает изменяться ниже определённого порога — упрощённый аналог параметра tol в линейной регрессии в sklearn."
   ]
  },
  {
   "cell_type": "markdown",
   "metadata": {
    "id": "VjV39BwKBjaR"
   },
   "source": [
    "#### решение:"
   ]
  },
  {
   "cell_type": "code",
   "execution_count": 12,
   "metadata": {},
   "outputs": [
    {
     "name": "stdout",
     "output_type": "stream",
     "text": [
      "Number of objects = 10        \n",
      "Learning rate = 0.2        \n",
      "Initial weights = [1.  0.5] \n",
      "\n",
      "Iteration #0: W_new = [22.6 75.9], MSE = 3047.75\n",
      "Iteration #10: W_new = [ 5415311.71454056 29863454.66191615], MSE = 1194376653973362.0\n",
      "Iteration #20: W_new = [9.88086345e+09 5.44896804e+10], MSE = 1.1983210264842023e+22\n",
      "Iteration #30: W_new = [2.11920878e+10 1.16867326e+11], MSE = 2.124662552281351e+23\n",
      "Iteration #40: W_new = [1563970.41343774 8624541.91417933], MSE = 9037381875386022.0\n",
      "Iteration #50: W_new = [43.80320418  4.04091019], MSE = 44.75\n",
      "Iteration #60: W_new = [43.99091997  4.00681452], MSE = 44.53\n"
     ]
    }
   ],
   "source": [
    "n = X.shape[1]\n",
    "alpha = 2e-1\n",
    "W = np.array([1, 0.5])\n",
    "print(f'Number of objects = {n} \\\n",
    "       \\nLearning rate = {alpha} \\\n",
    "       \\nInitial weights = {W} \\n')\n",
    "\n",
    "previous_err = np.inf  # значение предыдущей ошибки\n",
    "epsilon = 0.01  # значение изменения ошибки\n",
    "for i in range(100):  # итерации оставляю, т.к. иначе цикл может свалиться в бесконечность\n",
    "    y_pred = np.dot(W, X)\n",
    "    err = calc_mse(y, y_pred)\n",
    "\n",
    "    W -= alpha * (1/n * 2 * np.sum(X * (y_pred - y), axis=1))\n",
    "\n",
    "    W_pred = W\n",
    "    if i % 10 == 0:\n",
    "        alpha /= 1.5\n",
    "        print(f'Iteration #{i}: W_new = {W}, MSE = {round(err,2)}')\n",
    "        \n",
    "    if abs(previous_err - err) < epsilon:  # условие остановки цикла\n",
    "        break\n",
    "    previous_err = err"
   ]
  },
  {
   "cell_type": "code",
   "execution_count": null,
   "metadata": {},
   "outputs": [],
   "source": []
  }
 ],
 "metadata": {
  "colab": {
   "collapsed_sections": [],
   "name": "Lesson_1_script.ipynb",
   "provenance": []
  },
  "kernelspec": {
   "display_name": "Python 3",
   "language": "python",
   "name": "python3"
  },
  "language_info": {
   "codemirror_mode": {
    "name": "ipython",
    "version": 3
   },
   "file_extension": ".py",
   "mimetype": "text/x-python",
   "name": "python",
   "nbconvert_exporter": "python",
   "pygments_lexer": "ipython3",
   "version": "3.8.8"
  }
 },
 "nbformat": 4,
 "nbformat_minor": 1
}
